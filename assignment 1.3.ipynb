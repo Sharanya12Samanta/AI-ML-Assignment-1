{
 "cells": [
  {
   "cell_type": "markdown",
   "id": "847309ae",
   "metadata": {},
   "source": [
    "#### What are Data Structures? List some of data structures and their use in real world application? \n",
    " \n",
    " \n",
    " Ans>- Data Structures are used to store, organise and manupulate data efficiently.\n",
    " \n",
    " some of the data structure:-\n",
    " \n",
    " (i)list:- list are ordered collections of items that can be different types. They are mutable and ordered.\n",
    " \n",
    " (ii)Tuples:-Tuples are similar to lists but are immutable, meaning their elements cannot be modified once defined.\n",
    " \n",
    " (iii)Dictionaries: Dictionaries are unordered collections of key-value pairs. They provide fast access to values based on their associated keys.\n",
    " \n",
    " (iv) Sets: Sets are unordered collections of unique elements. They are useful when you want to eliminate duplicate values or perform set operations like union, intersection, or difference.\n",
    " \n",
    " (v)Arrays: Arrays are used to store a fixed-size sequential collection of elements of the same type. They offer fast and efficient access to elements based on their indices."
   ]
  },
  {
   "cell_type": "markdown",
   "id": "aa7d762e",
   "metadata": {},
   "source": [
    "#### 3> Create a list data type and store names of your friends in it (at least 5), check out what are methods available in list data type, try to figure out their working using help function in python"
   ]
  },
  {
   "cell_type": "code",
   "execution_count": 1,
   "id": "de06856c",
   "metadata": {},
   "outputs": [
    {
     "name": "stdout",
     "output_type": "stream",
     "text": [
      "['Ami', 'Tiara', 'Haru', 'Akira', 'kai']\n"
     ]
    }
   ],
   "source": [
    "list = [\"Ami\", \"Tiara\", \"Haru\", \"Akira\", \"kai\"]\n",
    "print(list)"
   ]
  },
  {
   "cell_type": "markdown",
   "id": "063967fb",
   "metadata": {},
   "source": [
    "#### What is difference between ordered data type and unordered data type? \n",
    "                  \n",
    "Ordered data structures maintain a specific order or sequence of elements. The position of each element within the structure is fixed and has significance. You can access elements based on their position or index. \n",
    "example:-list, string\n",
    "Unordered Data: Unordered data structures do not preserve a specific order or sequence of elements. The elements are stored in a way that optimizes certain operations, such as efficient retrieval or uniqueness of values. \n",
    "example:-sets, dictionaries"
   ]
  },
  {
   "cell_type": "markdown",
   "id": "0c7dd3a2",
   "metadata": {},
   "source": [
    "5 a.100 - Int\n",
    "\n",
    "  b.105.5- float\n",
    "  \n",
    "  c.192.56j- complex number\n",
    "  \n",
    "  d.10+6j-complex number\n",
    "  \n",
    "  e.'10'- string\n",
    "  \n",
    "  f. 'hello world's'-string\n",
    "  \n",
    "  g. [10, 20, 50, 100]-list\n",
    "  \n",
    "  h.{‘name’: ‘sachin’, ‘age’: 24, ‘language’: ‘python’}-dictionary"
   ]
  },
  {
   "cell_type": "code",
   "execution_count": null,
   "id": "dd2968e4",
   "metadata": {},
   "outputs": [],
   "source": []
  }
 ],
 "metadata": {
  "kernelspec": {
   "display_name": "Python 3 (ipykernel)",
   "language": "python",
   "name": "python3"
  },
  "language_info": {
   "codemirror_mode": {
    "name": "ipython",
    "version": 3
   },
   "file_extension": ".py",
   "mimetype": "text/x-python",
   "name": "python",
   "nbconvert_exporter": "python",
   "pygments_lexer": "ipython3",
   "version": "3.10.9"
  }
 },
 "nbformat": 4,
 "nbformat_minor": 5
}
